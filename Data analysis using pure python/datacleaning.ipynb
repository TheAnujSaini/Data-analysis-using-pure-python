{
 "cells": [
  {
   "cell_type": "code",
   "execution_count": 1,
   "id": "fdad3eb1-a205-48ff-9d9d-d57b36d32f67",
   "metadata": {},
   "outputs": [],
   "source": [
    "import json"
   ]
  },
  {
   "cell_type": "code",
   "execution_count": 15,
   "id": "fd263c64-6fce-424e-8cd3-a0184f5fa1d4",
   "metadata": {},
   "outputs": [
    {
     "name": "stdout",
     "output_type": "stream",
     "text": [
      "Data has been clean successfully\n"
     ]
    }
   ],
   "source": [
    "def clean_data(data):\n",
    "    #remove user with missing names\n",
    "    data[\"users\"] = [user for user in data[\"users\"] if user[\"name\"].strip()]\n",
    "   \n",
    "    #remove duplicate friends\n",
    "    for user in data[\"users\"]:\n",
    "        user[\"friends\"] = list(set(user['friends'])) \n",
    "    data[\"users\"] = [user for user in data[\"users\"] if user[\"friends\"] or user[\"liked_pages\"]] \n",
    "    \n",
    "    #remove duplicate pages\n",
    "    unique_pages = {}\n",
    "    for page in data[\"pages\"]:\n",
    "        unique_pages[page[\"id\"]] = page\n",
    "    data[\"pages\"] = list(unique_pages.values())\n",
    "    return data\n",
    "\n",
    "#Load the data\n",
    "data=json.load(open(\"data2.json\"))\n",
    "data=clean_data(data)\n",
    "json.dump(data,open(\"cleaned_data2.json\",\"w\"),indent=4)\n",
    "print (\"Data has been clean successfully\")\n"
   ]
  },
  {
   "cell_type": "code",
   "execution_count": null,
   "id": "05da2386-9c7b-4c3d-a496-50b3eb83ba1c",
   "metadata": {},
   "outputs": [],
   "source": []
  }
 ],
 "metadata": {
  "kernelspec": {
   "display_name": "Python 3 (ipykernel)",
   "language": "python",
   "name": "python3"
  },
  "language_info": {
   "codemirror_mode": {
    "name": "ipython",
    "version": 3
   },
   "file_extension": ".py",
   "mimetype": "text/x-python",
   "name": "python",
   "nbconvert_exporter": "python",
   "pygments_lexer": "ipython3",
   "version": "3.13.5"
  }
 },
 "nbformat": 4,
 "nbformat_minor": 5
}
