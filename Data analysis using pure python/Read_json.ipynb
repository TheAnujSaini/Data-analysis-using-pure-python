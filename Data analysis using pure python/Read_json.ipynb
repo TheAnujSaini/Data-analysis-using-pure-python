{
 "cells": [
  {
   "cell_type": "markdown",
   "id": "44842e95-6f2c-4f92-96e8-03f7bd38c019",
   "metadata": {},
   "source": [
    "#  Data analysis using pure python"
   ]
  },
  {
   "cell_type": "code",
   "execution_count": 19,
   "id": "65f0ddcb-3722-4688-b6ed-da272e193bbc",
   "metadata": {},
   "outputs": [],
   "source": [
    "import json"
   ]
  },
  {
   "cell_type": "code",
   "execution_count": 32,
   "id": "8be0f696-636b-49d7-8a0e-d7ce9bd8f832",
   "metadata": {},
   "outputs": [],
   "source": [
    "# Load the JSON file\n",
    "def load_data(filename):\n",
    "    with open(filename,\"r\") as f:\n",
    "        data=json.load(f)\n",
    "    print(data)\n",
    "    return data"
   ]
  },
  {
   "cell_type": "code",
   "execution_count": 33,
   "id": "b6361a9d-7a52-43c6-9aa1-8e7935e4b1c5",
   "metadata": {},
   "outputs": [
    {
     "name": "stdout",
     "output_type": "stream",
     "text": [
      "{'users': [{'id': 1, 'name': 'Amit', 'friends': [2, 3], 'liked_pages': [101]}, {'id': 2, 'name': 'Priya', 'friends': [1, 4], 'liked_pages': [102]}, {'id': 3, 'name': 'Rahul', 'friends': [1], 'liked_pages': [101, 103]}, {'id': 4, 'name': 'Sara', 'friends': [2], 'liked_pages': [104]}], 'pages': [{'id': 101, 'name': 'Python Developers'}, {'id': 102, 'name': 'Data Science Enthusiasts'}, {'id': 103, 'name': 'AI & ML Community'}, {'id': 104, 'name': 'Web Dev Hub'}]}\n"
     ]
    }
   ],
   "source": [
    "data = load_data(\"data.json\")"
   ]
  },
  {
   "cell_type": "code",
   "execution_count": 34,
   "id": "ee590426-f956-45c6-885b-6a660a6b768c",
   "metadata": {},
   "outputs": [
    {
     "data": {
      "text/plain": [
       "dict"
      ]
     },
     "execution_count": 34,
     "metadata": {},
     "output_type": "execute_result"
    }
   ],
   "source": [
    "type(data)"
   ]
  },
  {
   "cell_type": "code",
   "execution_count": 68,
   "id": "fe13d6c1-6313-47d7-87f4-3415dcae4697",
   "metadata": {},
   "outputs": [
    {
     "name": "stdout",
     "output_type": "stream",
     "text": [
      "User and their connections:\n",
      "(ID:1):Amit-friends: [2, 3],liked pages-[101]\n",
      "(ID:2):Priya-friends: [1, 4],liked pages-[102]\n",
      "(ID:3):Rahul-friends: [1],liked pages-[101, 103]\n",
      "(ID:4):Sara-friends: [2],liked pages-[104]\n",
      "\n",
      "pages information:\n",
      "101:Python Developers\n",
      "102:Data Science Enthusiasts\n",
      "103:AI & ML Community\n",
      "104:Web Dev Hub\n"
     ]
    }
   ],
   "source": [
    "# Display users and their connections\n",
    "def display_user(data):\n",
    "    print(\"User and their connections:\")\n",
    "    for user in data[\"users\"]:\n",
    "        print(f\"(ID:{user[\"id\"]}):{user[\"name\"]}-friends: {user[\"friends\"]},liked pages-{user[\"liked_pages\"]}\")\n",
    "    print(\"\\npages information:\")\n",
    "    for page in data[\"pages\"]:\n",
    "        print(f\"{page[\"id\"]}:{page[\"name\"]}\")\n",
    "display_user(data)"
   ]
  },
  {
   "cell_type": "code",
   "execution_count": null,
   "id": "01799278-debe-4f05-8931-60daf840f8d6",
   "metadata": {},
   "outputs": [],
   "source": []
  }
 ],
 "metadata": {
  "kernelspec": {
   "display_name": "Python 3 (ipykernel)",
   "language": "python",
   "name": "python3"
  },
  "language_info": {
   "codemirror_mode": {
    "name": "ipython",
    "version": 3
   },
   "file_extension": ".py",
   "mimetype": "text/x-python",
   "name": "python",
   "nbconvert_exporter": "python",
   "pygments_lexer": "ipython3",
   "version": "3.13.5"
  }
 },
 "nbformat": 4,
 "nbformat_minor": 5
}
